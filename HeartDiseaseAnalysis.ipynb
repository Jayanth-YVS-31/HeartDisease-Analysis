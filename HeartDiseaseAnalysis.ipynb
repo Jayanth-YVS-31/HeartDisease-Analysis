{
 "cells": [
  {
   "cell_type": "markdown",
   "id": "30e4a5a9",
   "metadata": {},
   "source": [
    "Chakri's uncle, who likes to know about tech and also always thinks about how to be healthy and fit. Whenever he saw NEWS he finds out that there are heart related diseases so he got afraid that he will have heart disease in the future.So he wants to check if he gets heart disease or not so that he will try to prevent the disease. *'I agree with him for sure'* .Then he asked his nephew chakri to predict, but poor chakri didn't know how to do it he asked us for the help to do it. So we will now build models to get the job done."
   ]
  },
  {
   "cell_type": "markdown",
   "id": "e7af5335",
   "metadata": {},
   "source": [
    "First let's import some modules we will import some later in the story but we can do with these for now"
   ]
  },
  {
   "cell_type": "code",
   "execution_count": 793,
   "id": "eaf3ea35",
   "metadata": {},
   "outputs": [],
   "source": [
    "import pandas as pd\n",
    "from sklearn.model_selection import train_test_split\n",
    "from sklearn.tree import DecisionTreeClassifier\n",
    "from sklearn.metrics import accuracy_score, precision_score, recall_score, confusion_matrix, ConfusionMatrixDisplay\n",
    "import matplotlib.pyplot as plt\n",
    "import seaborn as sns"
   ]
  },
  {
   "cell_type": "markdown",
   "id": "468fb531",
   "metadata": {},
   "source": [
    "**Find the right data and get it into the story**"
   ]
  },
  {
   "cell_type": "markdown",
   "id": "ecc39370",
   "metadata": {},
   "source": [
    "Get Dataset from here  [DATA](https://https://ieee-dataport.org/open-access/heart-disease-dataset-comprehensive#files.)"
   ]
  },
  {
   "cell_type": "code",
   "execution_count": 794,
   "id": "337bcdf4",
   "metadata": {},
   "outputs": [],
   "source": [
    "og_data = pd.read_csv(\"heart_statlog_cleveland_hungary_final.csv\")\n",
    "data = og_data"
   ]
  },
  {
   "cell_type": "markdown",
   "id": "69b5c06e",
   "metadata": {},
   "source": [
    "What's the data look like..."
   ]
  },
  {
   "cell_type": "code",
   "execution_count": 795,
   "id": "bae554ad",
   "metadata": {},
   "outputs": [
    {
     "data": {
      "text/html": [
       "<div>\n",
       "<style scoped>\n",
       "    .dataframe tbody tr th:only-of-type {\n",
       "        vertical-align: middle;\n",
       "    }\n",
       "\n",
       "    .dataframe tbody tr th {\n",
       "        vertical-align: top;\n",
       "    }\n",
       "\n",
       "    .dataframe thead th {\n",
       "        text-align: right;\n",
       "    }\n",
       "</style>\n",
       "<table border=\"1\" class=\"dataframe\">\n",
       "  <thead>\n",
       "    <tr style=\"text-align: right;\">\n",
       "      <th></th>\n",
       "      <th>age</th>\n",
       "      <th>sex</th>\n",
       "      <th>chest pain type</th>\n",
       "      <th>resting bp s</th>\n",
       "      <th>cholesterol</th>\n",
       "      <th>fasting blood sugar</th>\n",
       "      <th>resting ecg</th>\n",
       "      <th>max heart rate</th>\n",
       "      <th>exercise angina</th>\n",
       "      <th>oldpeak</th>\n",
       "      <th>ST slope</th>\n",
       "      <th>target</th>\n",
       "    </tr>\n",
       "  </thead>\n",
       "  <tbody>\n",
       "    <tr>\n",
       "      <th>0</th>\n",
       "      <td>40</td>\n",
       "      <td>1</td>\n",
       "      <td>2</td>\n",
       "      <td>140</td>\n",
       "      <td>289</td>\n",
       "      <td>0</td>\n",
       "      <td>0</td>\n",
       "      <td>172</td>\n",
       "      <td>0</td>\n",
       "      <td>0.0</td>\n",
       "      <td>1</td>\n",
       "      <td>0</td>\n",
       "    </tr>\n",
       "    <tr>\n",
       "      <th>1</th>\n",
       "      <td>49</td>\n",
       "      <td>0</td>\n",
       "      <td>3</td>\n",
       "      <td>160</td>\n",
       "      <td>180</td>\n",
       "      <td>0</td>\n",
       "      <td>0</td>\n",
       "      <td>156</td>\n",
       "      <td>0</td>\n",
       "      <td>1.0</td>\n",
       "      <td>2</td>\n",
       "      <td>1</td>\n",
       "    </tr>\n",
       "    <tr>\n",
       "      <th>2</th>\n",
       "      <td>37</td>\n",
       "      <td>1</td>\n",
       "      <td>2</td>\n",
       "      <td>130</td>\n",
       "      <td>283</td>\n",
       "      <td>0</td>\n",
       "      <td>1</td>\n",
       "      <td>98</td>\n",
       "      <td>0</td>\n",
       "      <td>0.0</td>\n",
       "      <td>1</td>\n",
       "      <td>0</td>\n",
       "    </tr>\n",
       "    <tr>\n",
       "      <th>3</th>\n",
       "      <td>48</td>\n",
       "      <td>0</td>\n",
       "      <td>4</td>\n",
       "      <td>138</td>\n",
       "      <td>214</td>\n",
       "      <td>0</td>\n",
       "      <td>0</td>\n",
       "      <td>108</td>\n",
       "      <td>1</td>\n",
       "      <td>1.5</td>\n",
       "      <td>2</td>\n",
       "      <td>1</td>\n",
       "    </tr>\n",
       "    <tr>\n",
       "      <th>4</th>\n",
       "      <td>54</td>\n",
       "      <td>1</td>\n",
       "      <td>3</td>\n",
       "      <td>150</td>\n",
       "      <td>195</td>\n",
       "      <td>0</td>\n",
       "      <td>0</td>\n",
       "      <td>122</td>\n",
       "      <td>0</td>\n",
       "      <td>0.0</td>\n",
       "      <td>1</td>\n",
       "      <td>0</td>\n",
       "    </tr>\n",
       "  </tbody>\n",
       "</table>\n",
       "</div>"
      ],
      "text/plain": [
       "   age  sex  chest pain type  resting bp s  cholesterol  fasting blood sugar  \\\n",
       "0   40    1                2           140          289                    0   \n",
       "1   49    0                3           160          180                    0   \n",
       "2   37    1                2           130          283                    0   \n",
       "3   48    0                4           138          214                    0   \n",
       "4   54    1                3           150          195                    0   \n",
       "\n",
       "   resting ecg  max heart rate  exercise angina  oldpeak  ST slope  target  \n",
       "0            0             172                0      0.0         1       0  \n",
       "1            0             156                0      1.0         2       1  \n",
       "2            1              98                0      0.0         1       0  \n",
       "3            0             108                1      1.5         2       1  \n",
       "4            0             122                0      0.0         1       0  "
      ]
     },
     "execution_count": 795,
     "metadata": {},
     "output_type": "execute_result"
    }
   ],
   "source": [
    "data.head()"
   ]
  },
  {
   "cell_type": "markdown",
   "id": "4d93d483",
   "metadata": {},
   "source": [
    "From the first glance we can see that all the feature values are in numerical format, but let's check it."
   ]
  },
  {
   "cell_type": "code",
   "execution_count": 796,
   "id": "0f904132",
   "metadata": {},
   "outputs": [
    {
     "data": {
      "text/plain": [
       "age                      int64\n",
       "sex                      int64\n",
       "chest pain type          int64\n",
       "resting bp s             int64\n",
       "cholesterol              int64\n",
       "fasting blood sugar      int64\n",
       "resting ecg              int64\n",
       "max heart rate           int64\n",
       "exercise angina          int64\n",
       "oldpeak                float64\n",
       "ST slope                 int64\n",
       "target                   int64\n",
       "dtype: object"
      ]
     },
     "execution_count": 796,
     "metadata": {},
     "output_type": "execute_result"
    }
   ],
   "source": [
    "data.dtypes"
   ]
  },
  {
   "cell_type": "markdown",
   "id": "6acba97a",
   "metadata": {},
   "source": [
    "Our previous guess is correct"
   ]
  },
  {
   "cell_type": "markdown",
   "id": "6dcb6e8a",
   "metadata": {},
   "source": [
    "Now how much data do we have"
   ]
  },
  {
   "cell_type": "code",
   "execution_count": 797,
   "id": "7e1af97c",
   "metadata": {},
   "outputs": [
    {
     "data": {
      "text/plain": [
       "(1190, 12)"
      ]
     },
     "execution_count": 797,
     "metadata": {},
     "output_type": "execute_result"
    }
   ],
   "source": [
    "data.shape"
   ]
  },
  {
   "cell_type": "markdown",
   "id": "210c7e21",
   "metadata": {},
   "source": [
    "This data is so less to work with but let's wait and see how this will turn out before we build the model"
   ]
  },
  {
   "cell_type": "markdown",
   "id": "337c3d45",
   "metadata": {},
   "source": [
    "The summary of the data is.."
   ]
  },
  {
   "cell_type": "code",
   "execution_count": 798,
   "id": "bb440552",
   "metadata": {},
   "outputs": [
    {
     "data": {
      "text/html": [
       "<div>\n",
       "<style scoped>\n",
       "    .dataframe tbody tr th:only-of-type {\n",
       "        vertical-align: middle;\n",
       "    }\n",
       "\n",
       "    .dataframe tbody tr th {\n",
       "        vertical-align: top;\n",
       "    }\n",
       "\n",
       "    .dataframe thead th {\n",
       "        text-align: right;\n",
       "    }\n",
       "</style>\n",
       "<table border=\"1\" class=\"dataframe\">\n",
       "  <thead>\n",
       "    <tr style=\"text-align: right;\">\n",
       "      <th></th>\n",
       "      <th>age</th>\n",
       "      <th>sex</th>\n",
       "      <th>chest pain type</th>\n",
       "      <th>resting bp s</th>\n",
       "      <th>cholesterol</th>\n",
       "      <th>fasting blood sugar</th>\n",
       "      <th>resting ecg</th>\n",
       "      <th>max heart rate</th>\n",
       "      <th>exercise angina</th>\n",
       "      <th>oldpeak</th>\n",
       "      <th>ST slope</th>\n",
       "      <th>target</th>\n",
       "    </tr>\n",
       "  </thead>\n",
       "  <tbody>\n",
       "    <tr>\n",
       "      <th>count</th>\n",
       "      <td>1190.000000</td>\n",
       "      <td>1190.000000</td>\n",
       "      <td>1190.000000</td>\n",
       "      <td>1190.000000</td>\n",
       "      <td>1190.000000</td>\n",
       "      <td>1190.000000</td>\n",
       "      <td>1190.000000</td>\n",
       "      <td>1190.000000</td>\n",
       "      <td>1190.000000</td>\n",
       "      <td>1190.000000</td>\n",
       "      <td>1190.000000</td>\n",
       "      <td>1190.000000</td>\n",
       "    </tr>\n",
       "    <tr>\n",
       "      <th>mean</th>\n",
       "      <td>53.720168</td>\n",
       "      <td>0.763866</td>\n",
       "      <td>3.232773</td>\n",
       "      <td>132.153782</td>\n",
       "      <td>210.363866</td>\n",
       "      <td>0.213445</td>\n",
       "      <td>0.698319</td>\n",
       "      <td>139.732773</td>\n",
       "      <td>0.387395</td>\n",
       "      <td>0.922773</td>\n",
       "      <td>1.624370</td>\n",
       "      <td>0.528571</td>\n",
       "    </tr>\n",
       "    <tr>\n",
       "      <th>std</th>\n",
       "      <td>9.358203</td>\n",
       "      <td>0.424884</td>\n",
       "      <td>0.935480</td>\n",
       "      <td>18.368823</td>\n",
       "      <td>101.420489</td>\n",
       "      <td>0.409912</td>\n",
       "      <td>0.870359</td>\n",
       "      <td>25.517636</td>\n",
       "      <td>0.487360</td>\n",
       "      <td>1.086337</td>\n",
       "      <td>0.610459</td>\n",
       "      <td>0.499393</td>\n",
       "    </tr>\n",
       "    <tr>\n",
       "      <th>min</th>\n",
       "      <td>28.000000</td>\n",
       "      <td>0.000000</td>\n",
       "      <td>1.000000</td>\n",
       "      <td>0.000000</td>\n",
       "      <td>0.000000</td>\n",
       "      <td>0.000000</td>\n",
       "      <td>0.000000</td>\n",
       "      <td>60.000000</td>\n",
       "      <td>0.000000</td>\n",
       "      <td>-2.600000</td>\n",
       "      <td>0.000000</td>\n",
       "      <td>0.000000</td>\n",
       "    </tr>\n",
       "    <tr>\n",
       "      <th>25%</th>\n",
       "      <td>47.000000</td>\n",
       "      <td>1.000000</td>\n",
       "      <td>3.000000</td>\n",
       "      <td>120.000000</td>\n",
       "      <td>188.000000</td>\n",
       "      <td>0.000000</td>\n",
       "      <td>0.000000</td>\n",
       "      <td>121.000000</td>\n",
       "      <td>0.000000</td>\n",
       "      <td>0.000000</td>\n",
       "      <td>1.000000</td>\n",
       "      <td>0.000000</td>\n",
       "    </tr>\n",
       "    <tr>\n",
       "      <th>50%</th>\n",
       "      <td>54.000000</td>\n",
       "      <td>1.000000</td>\n",
       "      <td>4.000000</td>\n",
       "      <td>130.000000</td>\n",
       "      <td>229.000000</td>\n",
       "      <td>0.000000</td>\n",
       "      <td>0.000000</td>\n",
       "      <td>140.500000</td>\n",
       "      <td>0.000000</td>\n",
       "      <td>0.600000</td>\n",
       "      <td>2.000000</td>\n",
       "      <td>1.000000</td>\n",
       "    </tr>\n",
       "    <tr>\n",
       "      <th>75%</th>\n",
       "      <td>60.000000</td>\n",
       "      <td>1.000000</td>\n",
       "      <td>4.000000</td>\n",
       "      <td>140.000000</td>\n",
       "      <td>269.750000</td>\n",
       "      <td>0.000000</td>\n",
       "      <td>2.000000</td>\n",
       "      <td>160.000000</td>\n",
       "      <td>1.000000</td>\n",
       "      <td>1.600000</td>\n",
       "      <td>2.000000</td>\n",
       "      <td>1.000000</td>\n",
       "    </tr>\n",
       "    <tr>\n",
       "      <th>max</th>\n",
       "      <td>77.000000</td>\n",
       "      <td>1.000000</td>\n",
       "      <td>4.000000</td>\n",
       "      <td>200.000000</td>\n",
       "      <td>603.000000</td>\n",
       "      <td>1.000000</td>\n",
       "      <td>2.000000</td>\n",
       "      <td>202.000000</td>\n",
       "      <td>1.000000</td>\n",
       "      <td>6.200000</td>\n",
       "      <td>3.000000</td>\n",
       "      <td>1.000000</td>\n",
       "    </tr>\n",
       "  </tbody>\n",
       "</table>\n",
       "</div>"
      ],
      "text/plain": [
       "               age          sex  chest pain type  resting bp s  cholesterol  \\\n",
       "count  1190.000000  1190.000000      1190.000000   1190.000000  1190.000000   \n",
       "mean     53.720168     0.763866         3.232773    132.153782   210.363866   \n",
       "std       9.358203     0.424884         0.935480     18.368823   101.420489   \n",
       "min      28.000000     0.000000         1.000000      0.000000     0.000000   \n",
       "25%      47.000000     1.000000         3.000000    120.000000   188.000000   \n",
       "50%      54.000000     1.000000         4.000000    130.000000   229.000000   \n",
       "75%      60.000000     1.000000         4.000000    140.000000   269.750000   \n",
       "max      77.000000     1.000000         4.000000    200.000000   603.000000   \n",
       "\n",
       "       fasting blood sugar  resting ecg  max heart rate  exercise angina  \\\n",
       "count          1190.000000  1190.000000     1190.000000      1190.000000   \n",
       "mean              0.213445     0.698319      139.732773         0.387395   \n",
       "std               0.409912     0.870359       25.517636         0.487360   \n",
       "min               0.000000     0.000000       60.000000         0.000000   \n",
       "25%               0.000000     0.000000      121.000000         0.000000   \n",
       "50%               0.000000     0.000000      140.500000         0.000000   \n",
       "75%               0.000000     2.000000      160.000000         1.000000   \n",
       "max               1.000000     2.000000      202.000000         1.000000   \n",
       "\n",
       "           oldpeak     ST slope       target  \n",
       "count  1190.000000  1190.000000  1190.000000  \n",
       "mean      0.922773     1.624370     0.528571  \n",
       "std       1.086337     0.610459     0.499393  \n",
       "min      -2.600000     0.000000     0.000000  \n",
       "25%       0.000000     1.000000     0.000000  \n",
       "50%       0.600000     2.000000     1.000000  \n",
       "75%       1.600000     2.000000     1.000000  \n",
       "max       6.200000     3.000000     1.000000  "
      ]
     },
     "execution_count": 798,
     "metadata": {},
     "output_type": "execute_result"
    }
   ],
   "source": [
    "data.describe()"
   ]
  },
  {
   "cell_type": "markdown",
   "id": "7b84f4a0",
   "metadata": {},
   "source": [
    "Let's just observe the summary for a second, what i got from my first glance is that \n",
    "* it doesn't have any NAN values in it\n",
    "* then the maximum people who have disease are from 47 to 60.\n",
    "* both male and female data is there\n",
    "* several features have `min` value 0.0 (resting bp s, cholesterol, fasting blood sugar, resting ecg, exercise angina)\n",
    "* oldpeak is even in negative value\n",
    "to make any decisions from these points we should have some domain knowledge, so now i'm not going to check them to verify I assume that these are correct."
   ]
  },
  {
   "cell_type": "markdown",
   "id": "b6a8a684",
   "metadata": {},
   "source": [
    "Are there really no NAN values in the data?"
   ]
  },
  {
   "cell_type": "code",
   "execution_count": 799,
   "id": "860372e3",
   "metadata": {},
   "outputs": [
    {
     "data": {
      "text/plain": [
       "age                    0\n",
       "sex                    0\n",
       "chest pain type        0\n",
       "resting bp s           0\n",
       "cholesterol            0\n",
       "fasting blood sugar    0\n",
       "resting ecg            0\n",
       "max heart rate         0\n",
       "exercise angina        0\n",
       "oldpeak                0\n",
       "ST slope               0\n",
       "target                 0\n",
       "dtype: int64"
      ]
     },
     "execution_count": 799,
     "metadata": {},
     "output_type": "execute_result"
    }
   ],
   "source": [
    "data.isna().sum()"
   ]
  },
  {
   "cell_type": "markdown",
   "id": "c9dd2dca",
   "metadata": {},
   "source": [
    "There are really no NAN values, we should always check our observations and intuitions on the data"
   ]
  },
  {
   "cell_type": "markdown",
   "id": "8f426045",
   "metadata": {},
   "source": [
    "Are there any duplicated rows are there?"
   ]
  },
  {
   "cell_type": "code",
   "execution_count": 800,
   "id": "5587e708",
   "metadata": {},
   "outputs": [
    {
     "data": {
      "text/html": [
       "<div>\n",
       "<style scoped>\n",
       "    .dataframe tbody tr th:only-of-type {\n",
       "        vertical-align: middle;\n",
       "    }\n",
       "\n",
       "    .dataframe tbody tr th {\n",
       "        vertical-align: top;\n",
       "    }\n",
       "\n",
       "    .dataframe thead th {\n",
       "        text-align: right;\n",
       "    }\n",
       "</style>\n",
       "<table border=\"1\" class=\"dataframe\">\n",
       "  <thead>\n",
       "    <tr style=\"text-align: right;\">\n",
       "      <th></th>\n",
       "      <th>age</th>\n",
       "      <th>sex</th>\n",
       "      <th>chest pain type</th>\n",
       "      <th>resting bp s</th>\n",
       "      <th>cholesterol</th>\n",
       "      <th>fasting blood sugar</th>\n",
       "      <th>resting ecg</th>\n",
       "      <th>max heart rate</th>\n",
       "      <th>exercise angina</th>\n",
       "      <th>oldpeak</th>\n",
       "      <th>ST slope</th>\n",
       "      <th>target</th>\n",
       "    </tr>\n",
       "  </thead>\n",
       "  <tbody>\n",
       "    <tr>\n",
       "      <th>163</th>\n",
       "      <td>49</td>\n",
       "      <td>0</td>\n",
       "      <td>2</td>\n",
       "      <td>110</td>\n",
       "      <td>208</td>\n",
       "      <td>0</td>\n",
       "      <td>0</td>\n",
       "      <td>160</td>\n",
       "      <td>0</td>\n",
       "      <td>0.0</td>\n",
       "      <td>1</td>\n",
       "      <td>0</td>\n",
       "    </tr>\n",
       "    <tr>\n",
       "      <th>604</th>\n",
       "      <td>58</td>\n",
       "      <td>1</td>\n",
       "      <td>3</td>\n",
       "      <td>150</td>\n",
       "      <td>219</td>\n",
       "      <td>0</td>\n",
       "      <td>1</td>\n",
       "      <td>118</td>\n",
       "      <td>1</td>\n",
       "      <td>0.0</td>\n",
       "      <td>2</td>\n",
       "      <td>1</td>\n",
       "    </tr>\n",
       "    <tr>\n",
       "      <th>887</th>\n",
       "      <td>63</td>\n",
       "      <td>1</td>\n",
       "      <td>1</td>\n",
       "      <td>145</td>\n",
       "      <td>233</td>\n",
       "      <td>1</td>\n",
       "      <td>2</td>\n",
       "      <td>150</td>\n",
       "      <td>0</td>\n",
       "      <td>2.3</td>\n",
       "      <td>3</td>\n",
       "      <td>0</td>\n",
       "    </tr>\n",
       "    <tr>\n",
       "      <th>888</th>\n",
       "      <td>67</td>\n",
       "      <td>1</td>\n",
       "      <td>4</td>\n",
       "      <td>160</td>\n",
       "      <td>286</td>\n",
       "      <td>0</td>\n",
       "      <td>2</td>\n",
       "      <td>108</td>\n",
       "      <td>1</td>\n",
       "      <td>1.5</td>\n",
       "      <td>2</td>\n",
       "      <td>1</td>\n",
       "    </tr>\n",
       "    <tr>\n",
       "      <th>889</th>\n",
       "      <td>67</td>\n",
       "      <td>1</td>\n",
       "      <td>4</td>\n",
       "      <td>120</td>\n",
       "      <td>229</td>\n",
       "      <td>0</td>\n",
       "      <td>2</td>\n",
       "      <td>129</td>\n",
       "      <td>1</td>\n",
       "      <td>2.6</td>\n",
       "      <td>2</td>\n",
       "      <td>1</td>\n",
       "    </tr>\n",
       "    <tr>\n",
       "      <th>...</th>\n",
       "      <td>...</td>\n",
       "      <td>...</td>\n",
       "      <td>...</td>\n",
       "      <td>...</td>\n",
       "      <td>...</td>\n",
       "      <td>...</td>\n",
       "      <td>...</td>\n",
       "      <td>...</td>\n",
       "      <td>...</td>\n",
       "      <td>...</td>\n",
       "      <td>...</td>\n",
       "      <td>...</td>\n",
       "    </tr>\n",
       "    <tr>\n",
       "      <th>1156</th>\n",
       "      <td>42</td>\n",
       "      <td>1</td>\n",
       "      <td>3</td>\n",
       "      <td>130</td>\n",
       "      <td>180</td>\n",
       "      <td>0</td>\n",
       "      <td>0</td>\n",
       "      <td>150</td>\n",
       "      <td>0</td>\n",
       "      <td>0.0</td>\n",
       "      <td>1</td>\n",
       "      <td>0</td>\n",
       "    </tr>\n",
       "    <tr>\n",
       "      <th>1157</th>\n",
       "      <td>61</td>\n",
       "      <td>1</td>\n",
       "      <td>4</td>\n",
       "      <td>140</td>\n",
       "      <td>207</td>\n",
       "      <td>0</td>\n",
       "      <td>2</td>\n",
       "      <td>138</td>\n",
       "      <td>1</td>\n",
       "      <td>1.9</td>\n",
       "      <td>1</td>\n",
       "      <td>1</td>\n",
       "    </tr>\n",
       "    <tr>\n",
       "      <th>1158</th>\n",
       "      <td>66</td>\n",
       "      <td>1</td>\n",
       "      <td>4</td>\n",
       "      <td>160</td>\n",
       "      <td>228</td>\n",
       "      <td>0</td>\n",
       "      <td>2</td>\n",
       "      <td>138</td>\n",
       "      <td>0</td>\n",
       "      <td>2.3</td>\n",
       "      <td>1</td>\n",
       "      <td>0</td>\n",
       "    </tr>\n",
       "    <tr>\n",
       "      <th>1159</th>\n",
       "      <td>46</td>\n",
       "      <td>1</td>\n",
       "      <td>4</td>\n",
       "      <td>140</td>\n",
       "      <td>311</td>\n",
       "      <td>0</td>\n",
       "      <td>0</td>\n",
       "      <td>120</td>\n",
       "      <td>1</td>\n",
       "      <td>1.8</td>\n",
       "      <td>2</td>\n",
       "      <td>1</td>\n",
       "    </tr>\n",
       "    <tr>\n",
       "      <th>1160</th>\n",
       "      <td>71</td>\n",
       "      <td>0</td>\n",
       "      <td>4</td>\n",
       "      <td>112</td>\n",
       "      <td>149</td>\n",
       "      <td>0</td>\n",
       "      <td>0</td>\n",
       "      <td>125</td>\n",
       "      <td>0</td>\n",
       "      <td>1.6</td>\n",
       "      <td>2</td>\n",
       "      <td>0</td>\n",
       "    </tr>\n",
       "  </tbody>\n",
       "</table>\n",
       "<p>272 rows × 12 columns</p>\n",
       "</div>"
      ],
      "text/plain": [
       "      age  sex  chest pain type  resting bp s  cholesterol  \\\n",
       "163    49    0                2           110          208   \n",
       "604    58    1                3           150          219   \n",
       "887    63    1                1           145          233   \n",
       "888    67    1                4           160          286   \n",
       "889    67    1                4           120          229   \n",
       "...   ...  ...              ...           ...          ...   \n",
       "1156   42    1                3           130          180   \n",
       "1157   61    1                4           140          207   \n",
       "1158   66    1                4           160          228   \n",
       "1159   46    1                4           140          311   \n",
       "1160   71    0                4           112          149   \n",
       "\n",
       "      fasting blood sugar  resting ecg  max heart rate  exercise angina  \\\n",
       "163                     0            0             160                0   \n",
       "604                     0            1             118                1   \n",
       "887                     1            2             150                0   \n",
       "888                     0            2             108                1   \n",
       "889                     0            2             129                1   \n",
       "...                   ...          ...             ...              ...   \n",
       "1156                    0            0             150                0   \n",
       "1157                    0            2             138                1   \n",
       "1158                    0            2             138                0   \n",
       "1159                    0            0             120                1   \n",
       "1160                    0            0             125                0   \n",
       "\n",
       "      oldpeak  ST slope  target  \n",
       "163       0.0         1       0  \n",
       "604       0.0         2       1  \n",
       "887       2.3         3       0  \n",
       "888       1.5         2       1  \n",
       "889       2.6         2       1  \n",
       "...       ...       ...     ...  \n",
       "1156      0.0         1       0  \n",
       "1157      1.9         1       1  \n",
       "1158      2.3         1       0  \n",
       "1159      1.8         2       1  \n",
       "1160      1.6         2       0  \n",
       "\n",
       "[272 rows x 12 columns]"
      ]
     },
     "execution_count": 800,
     "metadata": {},
     "output_type": "execute_result"
    }
   ],
   "source": [
    "data[data.duplicated]"
   ]
  },
  {
   "cell_type": "markdown",
   "id": "f80c7fa1",
   "metadata": {},
   "source": [
    "This is bad, there are so many duplicates and our data is also low.But we need to remove the duplicates"
   ]
  },
  {
   "cell_type": "code",
   "execution_count": 801,
   "id": "ca6b5360",
   "metadata": {},
   "outputs": [],
   "source": [
    "data.drop_duplicates(inplace=True)"
   ]
  },
  {
   "cell_type": "markdown",
   "id": "40c48d17",
   "metadata": {},
   "source": [
    "After deletion we are left with 918 rows × 12 columns"
   ]
  },
  {
   "cell_type": "markdown",
   "id": "c34c3cd2",
   "metadata": {},
   "source": [
    "How many male and female are in total?"
   ]
  },
  {
   "cell_type": "code",
   "execution_count": 802,
   "id": "88a5635f",
   "metadata": {},
   "outputs": [
    {
     "data": {
      "image/png": "[encoded data removed]",
      "text/plain": [
       "<Figure size 640x480 with 1 Axes>"
      ]
     },
     "metadata": {},
     "output_type": "display_data"
    }
   ],
   "source": [
    "plt.hist(data['age'], bins = 10)\n",
    "plt.show()"
   ]
  },
  {
   "cell_type": "markdown",
   "id": "cf3a8085",
   "metadata": {},
   "source": [
    "our earlier observation is true about the age of the people"
   ]
  },
  {
   "cell_type": "markdown",
   "id": "151e66cc",
   "metadata": {},
   "source": [
    "How many males and females are there?"
   ]
  },
  {
   "cell_type": "code",
   "execution_count": 803,
   "id": "e1e8d9f1",
   "metadata": {},
   "outputs": [
    {
     "data": {
      "image/png": "[encoded data removed]",
      "text/plain": [
       "<Figure size 640x480 with 1 Axes>"
      ]
     },
     "metadata": {},
     "output_type": "display_data"
    }
   ],
   "source": [
    "plt.hist(data['sex'])\n",
    "plt.show()"
   ]
  },
  {
   "cell_type": "code",
   "execution_count": 804,
   "id": "88928623",
   "metadata": {},
   "outputs": [
    {
     "data": {
      "text/plain": [
       "sex\n",
       "1    725\n",
       "0    193\n",
       "Name: count, dtype: int64"
      ]
     },
     "execution_count": 804,
     "metadata": {},
     "output_type": "execute_result"
    }
   ],
   "source": [
    "data['sex'].value_counts()"
   ]
  },
  {
   "cell_type": "markdown",
   "id": "5b30b371",
   "metadata": {},
   "source": [
    "Maximum records are from males"
   ]
  },
  {
   "cell_type": "markdown",
   "id": "f5b155b9",
   "metadata": {},
   "source": [
    "How many of the people have disease?"
   ]
  },
  {
   "cell_type": "code",
   "execution_count": 805,
   "id": "9976fe3a",
   "metadata": {},
   "outputs": [
    {
     "data": {
      "image/png": "[encoded data removed]",
      "text/plain": [
       "<Figure size 640x480 with 1 Axes>"
      ]
     },
     "metadata": {},
     "output_type": "display_data"
    }
   ],
   "source": [
    "plt.hist(data['target'])\n",
    "plt.show()"
   ]
  },
  {
   "cell_type": "code",
   "execution_count": 806,
   "id": "128024e5",
   "metadata": {},
   "outputs": [
    {
     "data": {
      "text/plain": [
       "target\n",
       "1    508\n",
       "0    410\n",
       "Name: count, dtype: int64"
      ]
     },
     "execution_count": 806,
     "metadata": {},
     "output_type": "execute_result"
    }
   ],
   "source": [
    "data['target'].value_counts()"
   ]
  },
  {
   "cell_type": "markdown",
   "id": "089e67d8",
   "metadata": {},
   "source": [
    "I will say they are pretty much balanced "
   ]
  },
  {
   "cell_type": "markdown",
   "id": "175ca665",
   "metadata": {},
   "source": [
    "How can we say that who have disease or not?"
   ]
  },
  {
   "cell_type": "code",
   "execution_count": 807,
   "id": "cee2aac9",
   "metadata": {},
   "outputs": [],
   "source": [
    "# md = 0\n",
    "# mnd = 0\n",
    "# fd = 0\n",
    "# fnd = 0\n",
    "# for i in range(0, data.shape[0]):\n",
    "#     if data['sex'] == 1 and data['target'] == 1:\n",
    "#         md = md + 1\n",
    "#     if data['sex'] == 1 and data['target'] == 0:\n",
    "#         mnd = mnd + 1\n",
    "#     if data['sex'] == 0 and data['target'] == 1:\n",
    "#         fd = fd + 1\n",
    "#     if data['sex'] == 0 and data['target'] == 0:\n",
    "#         fnd = fnd + 1\n",
    "        \n",
    "# print(f\"Males who have disese : {md}\\nMales who don't have disease : {mnd}\\nFemales who have disease : {fd}\\nFemales who don't have disease : {fnd}\")"
   ]
  },
  {
   "cell_type": "markdown",
   "id": "17fdb09f",
   "metadata": {},
   "source": [
    "From the suggestion of chakri, we are going to remove the samples of dataset which have `cholesterol` = 0 and `ST slope` = 0"
   ]
  },
  {
   "cell_type": "code",
   "execution_count": 808,
   "id": "e537990a",
   "metadata": {},
   "outputs": [],
   "source": [
    "data = data[data['cholesterol'] != 0]"
   ]
  },
  {
   "cell_type": "code",
   "execution_count": 809,
   "id": "5ca0c48d",
   "metadata": {},
   "outputs": [
    {
     "data": {
      "text/plain": [
       "(746, 12)"
      ]
     },
     "execution_count": 809,
     "metadata": {},
     "output_type": "execute_result"
    }
   ],
   "source": [
    "data.shape"
   ]
  },
  {
   "cell_type": "code",
   "execution_count": 810,
   "id": "ddc4879e",
   "metadata": {},
   "outputs": [],
   "source": [
    "data = data[data['ST slope'] != 0]"
   ]
  },
  {
   "cell_type": "markdown",
   "id": "ba77e902",
   "metadata": {},
   "source": [
    "From the above operations the final data set we received is of shape"
   ]
  },
  {
   "cell_type": "code",
   "execution_count": 811,
   "id": "a0537ac3",
   "metadata": {},
   "outputs": [
    {
     "data": {
      "text/plain": [
       "(745, 12)"
      ]
     },
     "execution_count": 811,
     "metadata": {},
     "output_type": "execute_result"
    }
   ],
   "source": [
    "data.shape"
   ]
  },
  {
   "cell_type": "markdown",
   "id": "cd695f14",
   "metadata": {},
   "source": [
    "now let's split data to data with only features and data with target"
   ]
  },
  {
   "cell_type": "code",
   "execution_count": 812,
   "id": "6536cc7b",
   "metadata": {},
   "outputs": [],
   "source": [
    "X = data.drop(\"target\", axis=1)  # Assuming \"target\" is the disease label\n",
    "y = data[\"target\"]"
   ]
  },
  {
   "cell_type": "code",
   "execution_count": 813,
   "id": "0217396d",
   "metadata": {},
   "outputs": [],
   "source": [
    "# Split data into training and testing sets\n",
    "X_train, X_test, y_train, y_test = train_test_split(X, y, test_size=0.2, random_state=31)"
   ]
  },
  {
   "cell_type": "markdown",
   "id": "33e5a1ba",
   "metadata": {},
   "source": [
    "Shapes of the splitted data are as follows"
   ]
  },
  {
   "cell_type": "code",
   "execution_count": 814,
   "id": "7e148d49",
   "metadata": {},
   "outputs": [
    {
     "data": {
      "text/plain": [
       "(596, 11)"
      ]
     },
     "execution_count": 814,
     "metadata": {},
     "output_type": "execute_result"
    }
   ],
   "source": [
    "X_train.shape"
   ]
  },
  {
   "cell_type": "code",
   "execution_count": 815,
   "id": "5eeabe78",
   "metadata": {},
   "outputs": [
    {
     "data": {
      "text/plain": [
       "(149, 11)"
      ]
     },
     "execution_count": 815,
     "metadata": {},
     "output_type": "execute_result"
    }
   ],
   "source": [
    "X_test.shape"
   ]
  },
  {
   "cell_type": "code",
   "execution_count": 816,
   "id": "8239d3e5",
   "metadata": {},
   "outputs": [
    {
     "data": {
      "text/plain": [
       "(596,)"
      ]
     },
     "execution_count": 816,
     "metadata": {},
     "output_type": "execute_result"
    }
   ],
   "source": [
    "y_train.shape"
   ]
  },
  {
   "cell_type": "code",
   "execution_count": 817,
   "id": "c90393af",
   "metadata": {},
   "outputs": [
    {
     "data": {
      "text/plain": [
       "(149,)"
      ]
     },
     "execution_count": 817,
     "metadata": {},
     "output_type": "execute_result"
    }
   ],
   "source": [
    "y_test.shape"
   ]
  },
  {
   "cell_type": "markdown",
   "id": "c0724e1e",
   "metadata": {},
   "source": [
    "Now let's train the cart model with this data to get the predictions"
   ]
  },
  {
   "cell_type": "code",
   "execution_count": 818,
   "id": "9e058d89",
   "metadata": {},
   "outputs": [
    {
     "data": {
      "text/html": [
       "<style>#sk-container-id-10 {color: black;}#sk-container-id-10 pre{padding: 0;}#sk-container-id-10 div.sk-toggleable {background-color: white;}#sk-container-id-10 label.sk-toggleable__label {cursor: pointer;display: block;width: 100%;margin-bottom: 0;padding: 0.3em;box-sizing: border-box;text-align: center;}#sk-container-id-10 label.sk-toggleable__label-arrow:before {content: \"▸\";float: left;margin-right: 0.25em;color: #696969;}#sk-container-id-10 label.sk-toggleable__label-arrow:hover:before {color: black;}#sk-container-id-10 div.sk-estimator:hover label.sk-toggleable__label-arrow:before {color: black;}#sk-container-id-10 div.sk-toggleable__content {max-height: 0;max-width: 0;overflow: hidden;text-align: left;background-color: #f0f8ff;}#sk-container-id-10 div.sk-toggleable__content pre {margin: 0.2em;color: black;border-radius: 0.25em;background-color: #f0f8ff;}#sk-container-id-10 input.sk-toggleable__control:checked~div.sk-toggleable__content {max-height: 200px;max-width: 100%;overflow: auto;}#sk-container-id-10 input.sk-toggleable__control:checked~label.sk-toggleable__label-arrow:before {content: \"▾\";}#sk-container-id-10 div.sk-estimator input.sk-toggleable__control:checked~label.sk-toggleable__label {background-color: #d4ebff;}#sk-container-id-10 div.sk-label input.sk-toggleable__control:checked~label.sk-toggleable__label {background-color: #d4ebff;}#sk-container-id-10 input.sk-hidden--visually {border: 0;clip: rect(1px 1px 1px 1px);clip: rect(1px, 1px, 1px, 1px);height: 1px;margin: -1px;overflow: hidden;padding: 0;position: absolute;width: 1px;}#sk-container-id-10 div.sk-estimator {font-family: monospace;background-color: #f0f8ff;border: 1px dotted black;border-radius: 0.25em;box-sizing: border-box;margin-bottom: 0.5em;}#sk-container-id-10 div.sk-estimator:hover {background-color: #d4ebff;}#sk-container-id-10 div.sk-parallel-item::after {content: \"\";width: 100%;border-bottom: 1px solid gray;flex-grow: 1;}#sk-container-id-10 div.sk-label:hover label.sk-toggleable__label {background-color: #d4ebff;}#sk-container-id-10 div.sk-serial::before {content: \"\";position: absolute;border-left: 1px solid gray;box-sizing: border-box;top: 0;bottom: 0;left: 50%;z-index: 0;}#sk-container-id-10 div.sk-serial {display: flex;flex-direction: column;align-items: center;background-color: white;padding-right: 0.2em;padding-left: 0.2em;position: relative;}#sk-container-id-10 div.sk-item {position: relative;z-index: 1;}#sk-container-id-10 div.sk-parallel {display: flex;align-items: stretch;justify-content: center;background-color: white;position: relative;}#sk-container-id-10 div.sk-item::before, #sk-container-id-10 div.sk-parallel-item::before {content: \"\";position: absolute;border-left: 1px solid gray;box-sizing: border-box;top: 0;bottom: 0;left: 50%;z-index: -1;}#sk-container-id-10 div.sk-parallel-item {display: flex;flex-direction: column;z-index: 1;position: relative;background-color: white;}#sk-container-id-10 div.sk-parallel-item:first-child::after {align-self: flex-end;width: 50%;}#sk-container-id-10 div.sk-parallel-item:last-child::after {align-self: flex-start;width: 50%;}#sk-container-id-10 div.sk-parallel-item:only-child::after {width: 0;}#sk-container-id-10 div.sk-dashed-wrapped {border: 1px dashed gray;margin: 0 0.4em 0.5em 0.4em;box-sizing: border-box;padding-bottom: 0.4em;background-color: white;}#sk-container-id-10 div.sk-label label {font-family: monospace;font-weight: bold;display: inline-block;line-height: 1.2em;}#sk-container-id-10 div.sk-label-container {text-align: center;}#sk-container-id-10 div.sk-container {/* jupyter's `normalize.less` sets `[hidden] { display: none; }` but bootstrap.min.css set `[hidden] { display: none !important; }` so we also need the `!important` here to be able to override the default hidden behavior on the sphinx rendered scikit-learn.org. See: https://github.com/scikit-learn/scikit-learn/issues/21755 */display: inline-block !important;position: relative;}#sk-container-id-10 div.sk-text-repr-fallback {display: none;}</style><div id=\"sk-container-id-10\" class=\"sk-top-container\"><div class=\"sk-text-repr-fallback\"><pre>DecisionTreeClassifier()</pre><b>In a Jupyter environment, please rerun this cell to show the HTML representation or trust the notebook. <br />On GitHub, the HTML representation is unable to render, please try loading this page with nbviewer.org.</b></div><div class=\"sk-container\" hidden><div class=\"sk-item\"><div class=\"sk-estimator sk-toggleable\"><input class=\"sk-toggleable__control sk-hidden--visually\" id=\"sk-estimator-id-10\" type=\"checkbox\" checked><label for=\"sk-estimator-id-10\" class=\"sk-toggleable__label sk-toggleable__label-arrow\">DecisionTreeClassifier</label><div class=\"sk-toggleable__content\"><pre>DecisionTreeClassifier()</pre></div></div></div></div></div>"
      ],
      "text/plain": [
       "DecisionTreeClassifier()"
      ]
     },
     "execution_count": 818,
     "metadata": {},
     "output_type": "execute_result"
    }
   ],
   "source": [
    "model = DecisionTreeClassifier()  # Adjust max_depth as needed\n",
    "model.fit(X_train, y_train)"
   ]
  },
  {
   "cell_type": "markdown",
   "id": "52b1b259",
   "metadata": {},
   "source": [
    "Predicting the values with our trained model"
   ]
  },
  {
   "cell_type": "code",
   "execution_count": 819,
   "id": "1f1c169c",
   "metadata": {},
   "outputs": [],
   "source": [
    "predictions = model.predict(X_test)"
   ]
  },
  {
   "cell_type": "markdown",
   "id": "484908cf",
   "metadata": {},
   "source": [
    "Checking the metrics of the model"
   ]
  },
  {
   "cell_type": "code",
   "execution_count": 820,
   "id": "d306dcb4",
   "metadata": {},
   "outputs": [
    {
     "name": "stdout",
     "output_type": "stream",
     "text": [
      "Test Accuracy: 0.8187919463087249\n",
      "Sensitivity (True Positive Rate): 0.8266666666666667\n",
      "Specificity (True Negative Rate): 0.8108108108108109\n",
      "Precision: 0.8157894736842105\n"
     ]
    }
   ],
   "source": [
    "    accuracy = accuracy_score(y_test, predictions)\n",
    "    print(\"Test Accuracy:\", accuracy)\n",
    "\n",
    "    # Calculate confusion matrix\n",
    "    tn, fp, fn, tp = confusion_matrix(y_test, predictions).ravel()\n",
    "\n",
    "    # Calculate sensitivity (true positive rate or recall)\n",
    "    sensitivity = tp / (tp + fn)\n",
    "    print(\"Sensitivity (True Positive Rate):\", sensitivity)\n",
    "\n",
    "    # Calculate specificity (true negative rate)\n",
    "    specificity = tn / (tn + fp)\n",
    "    print(\"Specificity (True Negative Rate):\", specificity)\n",
    "\n",
    "    # Calculate precision\n",
    "    precision = precision_score(y_test, predictions)\n",
    "    print(\"Precision:\", precision)"
   ]
  },
  {
   "cell_type": "code",
   "execution_count": 821,
   "id": "076d72f9",
   "metadata": {},
   "outputs": [],
   "source": [
    "# metrics._plot.confusion_matrix.ConfusionMatrixDisplay(confusion_matrix(y_test, predictions))"
   ]
  },
  {
   "cell_type": "markdown",
   "id": "e7c80b18",
   "metadata": {},
   "source": [
    "So, let's call uncle to tell our status.\n",
    "* ...........................................\n",
    "* Uncle : So how's work going on son?\n",
    "* Me    : All good uncle, we got 0.8187919463087249 accuracy for the test data.Do you like it? want to try it?\n",
    "* Uncle : Hmmm... What you did is good but I do want the accuracy to be little bit more and can you do it with the all trendy             neural network.\n",
    "* Me    : You know about neural network too? You sure are updated uncle.\n",
    "* Uncle : Thanks, so do with that and bring it to me then you may get a treat.Don't forget it's uncle special recipe.\n",
    "* Me    : Consider it done uncle.\n",
    "* ...........................................\n",
    "\n",
    "So shall we do this one more time with a differnt approach..Let's do this!"
   ]
  },
  {
   "cell_type": "markdown",
   "id": "c33fe30d-df38-4aef-a288-29504d910e6b",
   "metadata": {},
   "source": [
    "I going to go be a bit more creative and do the pearson correlation coefficients for the features to remove unwanted coefficients and then apply K-means clustering to identify any irregularities in the data.Then we will build a neural model to help us do the classification."
   ]
  },
  {
   "cell_type": "markdown",
   "id": "b84badd0-fcc5-4709-9acd-80f0a8dc634e",
   "metadata": {},
   "source": [
    "Now doing the pearson correlation for the data"
   ]
  },
  {
   "cell_type": "code",
   "execution_count": 822,
   "id": "cd253f98-2aef-4dcc-b1fa-29cd78037790",
   "metadata": {},
   "outputs": [
    {
     "data": {
      "text/plain": [
       "<Axes: >"
      ]
     },
     "execution_count": 822,
     "metadata": {},
     "output_type": "execute_result"
    },
    {
     "data": {
      "image/png": "[encoded data removed]",
      "text/plain": [
       "<Figure size 640x480 with 2 Axes>"
      ]
     },
     "metadata": {},
     "output_type": "display_data"
    }
   ],
   "source": [
    "sns.heatmap(data.corr(method = 'pearson'))"
   ]
  },
  {
   "cell_type": "code",
   "execution_count": 823,
   "id": "860b7a4e-ff7a-4394-9eb4-334a6d145ce4",
   "metadata": {},
   "outputs": [
    {
     "data": {
      "text/html": [
       "<div>\n",
       "<style scoped>\n",
       "    .dataframe tbody tr th:only-of-type {\n",
       "        vertical-align: middle;\n",
       "    }\n",
       "\n",
       "    .dataframe tbody tr th {\n",
       "        vertical-align: top;\n",
       "    }\n",
       "\n",
       "    .dataframe thead th {\n",
       "        text-align: right;\n",
       "    }\n",
       "</style>\n",
       "<table border=\"1\" class=\"dataframe\">\n",
       "  <thead>\n",
       "    <tr style=\"text-align: right;\">\n",
       "      <th></th>\n",
       "      <th>age</th>\n",
       "      <th>sex</th>\n",
       "      <th>chest pain type</th>\n",
       "      <th>resting bp s</th>\n",
       "      <th>cholesterol</th>\n",
       "      <th>fasting blood sugar</th>\n",
       "      <th>resting ecg</th>\n",
       "      <th>max heart rate</th>\n",
       "      <th>exercise angina</th>\n",
       "      <th>oldpeak</th>\n",
       "      <th>ST slope</th>\n",
       "      <th>target</th>\n",
       "    </tr>\n",
       "  </thead>\n",
       "  <tbody>\n",
       "    <tr>\n",
       "      <th>age</th>\n",
       "      <td>1.000000</td>\n",
       "      <td>0.039779</td>\n",
       "      <td>0.174383</td>\n",
       "      <td>0.258372</td>\n",
       "      <td>0.060684</td>\n",
       "      <td>0.237774</td>\n",
       "      <td>0.232490</td>\n",
       "      <td>-0.382074</td>\n",
       "      <td>0.248123</td>\n",
       "      <td>0.288430</td>\n",
       "      <td>0.284529</td>\n",
       "      <td>0.297104</td>\n",
       "    </tr>\n",
       "    <tr>\n",
       "      <th>sex</th>\n",
       "      <td>0.039779</td>\n",
       "      <td>1.000000</td>\n",
       "      <td>0.146502</td>\n",
       "      <td>0.033643</td>\n",
       "      <td>-0.106478</td>\n",
       "      <td>0.094712</td>\n",
       "      <td>-0.012935</td>\n",
       "      <td>-0.156792</td>\n",
       "      <td>0.193305</td>\n",
       "      <td>0.126472</td>\n",
       "      <td>0.142360</td>\n",
       "      <td>0.292259</td>\n",
       "    </tr>\n",
       "    <tr>\n",
       "      <th>chest pain type</th>\n",
       "      <td>0.174383</td>\n",
       "      <td>0.146502</td>\n",
       "      <td>1.000000</td>\n",
       "      <td>0.043763</td>\n",
       "      <td>0.079730</td>\n",
       "      <td>0.044108</td>\n",
       "      <td>0.078577</td>\n",
       "      <td>-0.344157</td>\n",
       "      <td>0.447485</td>\n",
       "      <td>0.292894</td>\n",
       "      <td>0.338638</td>\n",
       "      <td>0.463768</td>\n",
       "    </tr>\n",
       "    <tr>\n",
       "      <th>resting bp s</th>\n",
       "      <td>0.258372</td>\n",
       "      <td>0.033643</td>\n",
       "      <td>0.043763</td>\n",
       "      <td>1.000000</td>\n",
       "      <td>0.097156</td>\n",
       "      <td>0.171508</td>\n",
       "      <td>0.063224</td>\n",
       "      <td>-0.125422</td>\n",
       "      <td>0.162252</td>\n",
       "      <td>0.199909</td>\n",
       "      <td>0.143114</td>\n",
       "      <td>0.172099</td>\n",
       "    </tr>\n",
       "    <tr>\n",
       "      <th>cholesterol</th>\n",
       "      <td>0.060684</td>\n",
       "      <td>-0.106478</td>\n",
       "      <td>0.079730</td>\n",
       "      <td>0.097156</td>\n",
       "      <td>1.000000</td>\n",
       "      <td>0.056741</td>\n",
       "      <td>0.067000</td>\n",
       "      <td>-0.020245</td>\n",
       "      <td>0.085954</td>\n",
       "      <td>0.057595</td>\n",
       "      <td>0.079352</td>\n",
       "      <td>0.105172</td>\n",
       "    </tr>\n",
       "    <tr>\n",
       "      <th>fasting blood sugar</th>\n",
       "      <td>0.237774</td>\n",
       "      <td>0.094712</td>\n",
       "      <td>0.044108</td>\n",
       "      <td>0.171508</td>\n",
       "      <td>0.056741</td>\n",
       "      <td>1.000000</td>\n",
       "      <td>0.135864</td>\n",
       "      <td>-0.102054</td>\n",
       "      <td>0.112785</td>\n",
       "      <td>0.058307</td>\n",
       "      <td>0.156298</td>\n",
       "      <td>0.158107</td>\n",
       "    </tr>\n",
       "    <tr>\n",
       "      <th>resting ecg</th>\n",
       "      <td>0.232490</td>\n",
       "      <td>-0.012935</td>\n",
       "      <td>0.078577</td>\n",
       "      <td>0.063224</td>\n",
       "      <td>0.067000</td>\n",
       "      <td>0.135864</td>\n",
       "      <td>1.000000</td>\n",
       "      <td>0.025116</td>\n",
       "      <td>0.046861</td>\n",
       "      <td>0.124458</td>\n",
       "      <td>0.109588</td>\n",
       "      <td>0.114462</td>\n",
       "    </tr>\n",
       "    <tr>\n",
       "      <th>max heart rate</th>\n",
       "      <td>-0.382074</td>\n",
       "      <td>-0.156792</td>\n",
       "      <td>-0.344157</td>\n",
       "      <td>-0.125422</td>\n",
       "      <td>-0.020245</td>\n",
       "      <td>-0.102054</td>\n",
       "      <td>0.025116</td>\n",
       "      <td>1.000000</td>\n",
       "      <td>-0.396842</td>\n",
       "      <td>-0.260055</td>\n",
       "      <td>-0.349753</td>\n",
       "      <td>-0.377046</td>\n",
       "    </tr>\n",
       "    <tr>\n",
       "      <th>exercise angina</th>\n",
       "      <td>0.248123</td>\n",
       "      <td>0.193305</td>\n",
       "      <td>0.447485</td>\n",
       "      <td>0.162252</td>\n",
       "      <td>0.085954</td>\n",
       "      <td>0.112785</td>\n",
       "      <td>0.046861</td>\n",
       "      <td>-0.396842</td>\n",
       "      <td>1.000000</td>\n",
       "      <td>0.465014</td>\n",
       "      <td>0.474620</td>\n",
       "      <td>0.553585</td>\n",
       "    </tr>\n",
       "    <tr>\n",
       "      <th>oldpeak</th>\n",
       "      <td>0.288430</td>\n",
       "      <td>0.126472</td>\n",
       "      <td>0.292894</td>\n",
       "      <td>0.199909</td>\n",
       "      <td>0.057595</td>\n",
       "      <td>0.058307</td>\n",
       "      <td>0.124458</td>\n",
       "      <td>-0.260055</td>\n",
       "      <td>0.465014</td>\n",
       "      <td>1.000000</td>\n",
       "      <td>0.615222</td>\n",
       "      <td>0.497480</td>\n",
       "    </tr>\n",
       "    <tr>\n",
       "      <th>ST slope</th>\n",
       "      <td>0.284529</td>\n",
       "      <td>0.142360</td>\n",
       "      <td>0.338638</td>\n",
       "      <td>0.143114</td>\n",
       "      <td>0.079352</td>\n",
       "      <td>0.156298</td>\n",
       "      <td>0.109588</td>\n",
       "      <td>-0.349753</td>\n",
       "      <td>0.474620</td>\n",
       "      <td>0.615222</td>\n",
       "      <td>1.000000</td>\n",
       "      <td>0.596997</td>\n",
       "    </tr>\n",
       "    <tr>\n",
       "      <th>target</th>\n",
       "      <td>0.297104</td>\n",
       "      <td>0.292259</td>\n",
       "      <td>0.463768</td>\n",
       "      <td>0.172099</td>\n",
       "      <td>0.105172</td>\n",
       "      <td>0.158107</td>\n",
       "      <td>0.114462</td>\n",
       "      <td>-0.377046</td>\n",
       "      <td>0.553585</td>\n",
       "      <td>0.497480</td>\n",
       "      <td>0.596997</td>\n",
       "      <td>1.000000</td>\n",
       "    </tr>\n",
       "  </tbody>\n",
       "</table>\n",
       "</div>"
      ],
      "text/plain": [
       "                          age       sex  chest pain type  resting bp s  \\\n",
       "age                  1.000000  0.039779         0.174383      0.258372   \n",
       "sex                  0.039779  1.000000         0.146502      0.033643   \n",
       "chest pain type      0.174383  0.146502         1.000000      0.043763   \n",
       "resting bp s         0.258372  0.033643         0.043763      1.000000   \n",
       "cholesterol          0.060684 -0.106478         0.079730      0.097156   \n",
       "fasting blood sugar  0.237774  0.094712         0.044108      0.171508   \n",
       "resting ecg          0.232490 -0.012935         0.078577      0.063224   \n",
       "max heart rate      -0.382074 -0.156792        -0.344157     -0.125422   \n",
       "exercise angina      0.248123  0.193305         0.447485      0.162252   \n",
       "oldpeak              0.288430  0.126472         0.292894      0.199909   \n",
       "ST slope             0.284529  0.142360         0.338638      0.143114   \n",
       "target               0.297104  0.292259         0.463768      0.172099   \n",
       "\n",
       "                     cholesterol  fasting blood sugar  resting ecg  \\\n",
       "age                     0.060684             0.237774     0.232490   \n",
       "sex                    -0.106478             0.094712    -0.012935   \n",
       "chest pain type         0.079730             0.044108     0.078577   \n",
       "resting bp s            0.097156             0.171508     0.063224   \n",
       "cholesterol             1.000000             0.056741     0.067000   \n",
       "fasting blood sugar     0.056741             1.000000     0.135864   \n",
       "resting ecg             0.067000             0.135864     1.000000   \n",
       "max heart rate         -0.020245            -0.102054     0.025116   \n",
       "exercise angina         0.085954             0.112785     0.046861   \n",
       "oldpeak                 0.057595             0.058307     0.124458   \n",
       "ST slope                0.079352             0.156298     0.109588   \n",
       "target                  0.105172             0.158107     0.114462   \n",
       "\n",
       "                     max heart rate  exercise angina   oldpeak  ST slope  \\\n",
       "age                       -0.382074         0.248123  0.288430  0.284529   \n",
       "sex                       -0.156792         0.193305  0.126472  0.142360   \n",
       "chest pain type           -0.344157         0.447485  0.292894  0.338638   \n",
       "resting bp s              -0.125422         0.162252  0.199909  0.143114   \n",
       "cholesterol               -0.020245         0.085954  0.057595  0.079352   \n",
       "fasting blood sugar       -0.102054         0.112785  0.058307  0.156298   \n",
       "resting ecg                0.025116         0.046861  0.124458  0.109588   \n",
       "max heart rate             1.000000        -0.396842 -0.260055 -0.349753   \n",
       "exercise angina           -0.396842         1.000000  0.465014  0.474620   \n",
       "oldpeak                   -0.260055         0.465014  1.000000  0.615222   \n",
       "ST slope                  -0.349753         0.474620  0.615222  1.000000   \n",
       "target                    -0.377046         0.553585  0.497480  0.596997   \n",
       "\n",
       "                       target  \n",
       "age                  0.297104  \n",
       "sex                  0.292259  \n",
       "chest pain type      0.463768  \n",
       "resting bp s         0.172099  \n",
       "cholesterol          0.105172  \n",
       "fasting blood sugar  0.158107  \n",
       "resting ecg          0.114462  \n",
       "max heart rate      -0.377046  \n",
       "exercise angina      0.553585  \n",
       "oldpeak              0.497480  \n",
       "ST slope             0.596997  \n",
       "target               1.000000  "
      ]
     },
     "execution_count": 823,
     "metadata": {},
     "output_type": "execute_result"
    }
   ],
   "source": [
    "data.corr()"
   ]
  },
  {
   "cell_type": "markdown",
   "id": "03f3c025-2555-44cf-8d0c-df59e866ba2d",
   "metadata": {},
   "source": [
    "There are no significant correlation ( i.e 0.7 to 1) between two features so there is no need to remove any features."
   ]
  },
  {
   "cell_type": "markdown",
   "id": "222f3636-c08b-46e8-bd77-d9318d0f4178",
   "metadata": {},
   "source": [
    "Let's do the k-means clustering on the data"
   ]
  },
  {
   "cell_type": "code",
   "execution_count": null,
   "id": "0ae7b93a-5dfd-45b1-8535-a0303bd831c3",
   "metadata": {},
   "outputs": [],
   "source": []
  },
  {
   "cell_type": "markdown",
   "id": "8cc3f5cc-3cf7-43f0-ba0e-fb4607472796",
   "metadata": {},
   "source": [
    "Shape of the remaining data"
   ]
  },
  {
   "cell_type": "code",
   "execution_count": 824,
   "id": "317bc556-7eff-464a-835a-18ed8e210a07",
   "metadata": {},
   "outputs": [
    {
     "data": {
      "text/plain": [
       "(745, 12)"
      ]
     },
     "execution_count": 824,
     "metadata": {},
     "output_type": "execute_result"
    }
   ],
   "source": [
    "data.shape"
   ]
  },
  {
   "cell_type": "markdown",
   "id": "17b86be5-3599-4589-a351-06f8031125c8",
   "metadata": {},
   "source": [
    "Now we will plot a sctterplot for the data to identify and remove the outliers using k means clustering"
   ]
  },
  {
   "cell_type": "code",
   "execution_count": 825,
   "id": "76b1d654-a322-433b-b9d2-4ef47a5dc6a1",
   "metadata": {},
   "outputs": [
    {
     "name": "stderr",
     "output_type": "stream",
     "text": [
      "C:\\PROJECTS\\sample_projects\\project1\\env\\lib\\site-packages\\sklearn\\cluster\\_kmeans.py:1412: FutureWarning: The default value of `n_init` will change from 10 to 'auto' in 1.4. Set the value of `n_init` explicitly to suppress the warning\n",
      "  super()._check_params_vs_input(X, default_n_init=10)\n",
      "C:\\PROJECTS\\sample_projects\\project1\\env\\lib\\site-packages\\sklearn\\cluster\\_kmeans.py:1436: UserWarning: KMeans is known to have a memory leak on Windows with MKL, when there are less chunks than available threads. You can avoid it by setting the environment variable OMP_NUM_THREADS=3.\n",
      "  warnings.warn(\n"
     ]
    },
    {
     "data": {
      "image/png": "[encoded data removed]",
      "text/plain": [
       "<Figure size 1000x1000 with 1 Axes>"
      ]
     },
     "metadata": {},
     "output_type": "display_data"
    }
   ],
   "source": [
    "import numpy as np\n",
    "import pandas as pd\n",
    "import matplotlib.pyplot as plt\n",
    "from sklearn.cluster import KMeans\n",
    "from sklearn.preprocessing import StandardScaler\n",
    "from sklearn.decomposition import PCA\n",
    "from scipy.spatial.distance import cdist\n",
    "%matplotlib inline\n",
    "\n",
    "# Extract features and target variable\n",
    "X = data.iloc[:, :11].values\n",
    "\n",
    "# Standardize the features\n",
    "scaler = StandardScaler()\n",
    "X_scaled = scaler.fit_transform(X)\n",
    "\n",
    "# Perform PCA to visualize in 2D\n",
    "pca = PCA(n_components=2)\n",
    "X_pca = pca.fit_transform(X_scaled)\n",
    "\n",
    "# Perform K-means clustering\n",
    "k = 2  # Number of clusters\n",
    "kmeans = KMeans(n_clusters=k, random_state=42)\n",
    "kmeans.fit(X_scaled)\n",
    "labels = kmeans.labels_\n",
    "centroids = kmeans.cluster_centers_\n",
    "\n",
    "# Visualize the clusters\n",
    "plt.figure(figsize=(10, 10))\n",
    "plt.scatter(X_pca[:, 0], X_pca[:, 1], c=labels, cmap='viridis', alpha=0.5)\n",
    "plt.scatter(centroids[:, 0], centroids[:, 1], marker='x', c='red', s=200, label='Centroids')\n",
    "plt.title('K-means Clustering')\n",
    "plt.xlabel('Principal Component 1')\n",
    "plt.ylabel('Principal Component 2')\n",
    "plt.legend()\n",
    "plt.grid(True)\n",
    "plt.show()"
   ]
  },
  {
   "cell_type": "markdown",
   "id": "a87f6467-6be1-4c70-9073-f13c8dd19e2b",
   "metadata": {},
   "source": [
    "We will now identify the outliers and remove them from the data"
   ]
  },
  {
   "cell_type": "code",
   "execution_count": 826,
   "id": "bc077a74-450d-4290-ac32-fd993850529f",
   "metadata": {},
   "outputs": [
    {
     "name": "stdout",
     "output_type": "stream",
     "text": [
      "Identified outliers:\n",
      "     age  sex  chest pain type  resting bp s  cholesterol  \\\n",
      "28    53    0                2           113          468   \n",
      "30    53    1                3           145          518   \n",
      "76    32    1                4           118          529   \n",
      "103   40    1                4           120          466   \n",
      "109   39    1                2           190          241   \n",
      "123   58    0                2           180          393   \n",
      "149   54    1                4           130          603   \n",
      "228   38    1                4            92          117   \n",
      "251   44    1                4           135          491   \n",
      "483   67    1                1           142          270   \n",
      "497   58    1                4           132          458   \n",
      "542   76    1                3           104          113   \n",
      "545   61    0                2           140          298   \n",
      "548   61    1                1           142          200   \n",
      "574   72    1                4           160          123   \n",
      "593   61    1                4           190          287   \n",
      "607   51    0                4           114          258   \n",
      "615   58    1                4           140          385   \n",
      "618   67    0                3           115          564   \n",
      "621   74    0                2           120          269   \n",
      "626   63    0                4           150          407   \n",
      "646   71    0                3           110          265   \n",
      "669   65    0                3           140          417   \n",
      "681   63    1                1           145          233   \n",
      "704   59    1                1           178          270   \n",
      "734   56    0                4           200          288   \n",
      "735   66    0                1           150          226   \n",
      "761   54    1                2           192          283   \n",
      "773   55    1                4           140          217   \n",
      "776   66    0                4           178          228   \n",
      "777   38    1                1           120          231   \n",
      "782   64    0                4           180          325   \n",
      "786   65    1                1           138          282   \n",
      "787   69    1                1           160          234   \n",
      "797   42    1                3           120          240   \n",
      "826   37    1                3           130          250   \n",
      "845   58    0                1           150          283   \n",
      "852   62    0                4           160          164   \n",
      "\n",
      "     fasting blood sugar  resting ecg  max heart rate  exercise angina  \\\n",
      "28                     0            0             127                0   \n",
      "30                     0            0             130                0   \n",
      "76                     0            0             130                0   \n",
      "103                    1            0             152                1   \n",
      "109                    0            0             106                0   \n",
      "123                    0            0             110                1   \n",
      "149                    1            0             125                1   \n",
      "228                    0            0             134                1   \n",
      "251                    0            0             135                0   \n",
      "483                    1            0             125                0   \n",
      "497                    1            0              69                0   \n",
      "542                    0            2             120                0   \n",
      "545                    1            0             120                1   \n",
      "548                    1            1             100                0   \n",
      "574                    1            2             130                0   \n",
      "593                    1            2             150                1   \n",
      "607                    1            2              96                0   \n",
      "615                    1            2             135                0   \n",
      "618                    0            2             160                0   \n",
      "621                    0            2             121                1   \n",
      "626                    0            2             154                0   \n",
      "646                    1            2             130                0   \n",
      "669                    1            2             157                0   \n",
      "681                    1            2             150                0   \n",
      "704                    0            2             145                0   \n",
      "734                    1            2             133                1   \n",
      "735                    0            0             114                0   \n",
      "761                    0            2             195                0   \n",
      "773                    0            0             111                1   \n",
      "776                    1            0             165                1   \n",
      "777                    0            0             182                1   \n",
      "782                    0            0             154                1   \n",
      "786                    1            2             174                0   \n",
      "787                    1            2             131                0   \n",
      "797                    1            0             194                0   \n",
      "826                    0            0             187                0   \n",
      "845                    1            2             162                0   \n",
      "852                    0            2             145                0   \n",
      "\n",
      "     oldpeak  ST slope  target  \n",
      "28       0.0         1       0  \n",
      "30       0.0         2       1  \n",
      "76       0.0         2       1  \n",
      "103      1.0         2       1  \n",
      "109      0.0         1       0  \n",
      "123      1.0         2       1  \n",
      "149      1.0         2       1  \n",
      "228      2.5         2       1  \n",
      "251      0.0         2       1  \n",
      "483      2.5         1       1  \n",
      "497      1.0         3       0  \n",
      "542      3.5         3       1  \n",
      "545      0.0         1       0  \n",
      "548      1.5         3       1  \n",
      "574      1.5         2       1  \n",
      "593      2.0         3       1  \n",
      "607      1.0         1       0  \n",
      "615      0.3         1       0  \n",
      "618      1.6         2       0  \n",
      "621      0.2         1       0  \n",
      "626      4.0         2       1  \n",
      "646      0.0         1       0  \n",
      "669      0.8         1       0  \n",
      "681      2.3         3       0  \n",
      "704      4.2         3       0  \n",
      "734      4.0         3       1  \n",
      "735      2.6         3       0  \n",
      "761      0.0         1       1  \n",
      "773      5.6         3       1  \n",
      "776      1.0         2       1  \n",
      "777      3.8         2       1  \n",
      "782      0.0         1       0  \n",
      "786      1.4         2       1  \n",
      "787      0.1         2       0  \n",
      "797      0.8         3       0  \n",
      "826      3.5         3       0  \n",
      "845      1.0         1       0  \n",
      "852      6.2         3       1  \n"
     ]
    }
   ],
   "source": [
    "# Identifying outliers\n",
    "distances = cdist(X_scaled, centroids, 'euclidean')\n",
    "min_distances = np.min(distances, axis=1)\n",
    "threshold = np.percentile(min_distances, 95)  # Adjust percentile as needed\n",
    "outliers_indices = np.where(min_distances > threshold)[0]\n",
    "outliers = data.iloc[outliers_indices]\n",
    "\n",
    "print(\"Identified outliers:\")\n",
    "print(outliers)\n",
    "\n",
    "# Remove outliers\n",
    "for i in outliers.index:\n",
    "    if i in data.index:\n",
    "        data = data.drop(i)"
   ]
  },
  {
   "cell_type": "code",
   "execution_count": 827,
   "id": "91ee1b7e",
   "metadata": {},
   "outputs": [],
   "source": [
    "cleaned_data = data"
   ]
  },
  {
   "cell_type": "markdown",
   "id": "9837bcc6-d2dc-4388-bd84-73b071c9c4f0",
   "metadata": {},
   "source": [
    "Now after removing the outliers, let's see how our data is"
   ]
  },
  {
   "cell_type": "code",
   "execution_count": 828,
   "id": "0aae4169-8132-4fbf-8e4d-530951df87df",
   "metadata": {},
   "outputs": [
    {
     "data": {
      "text/plain": [
       "(707, 12)"
      ]
     },
     "execution_count": 828,
     "metadata": {},
     "output_type": "execute_result"
    }
   ],
   "source": [
    "cleaned_data.shape"
   ]
  },
  {
   "cell_type": "code",
   "execution_count": 829,
   "id": "62683066",
   "metadata": {},
   "outputs": [
    {
     "data": {
      "text/plain": [
       "38"
      ]
     },
     "execution_count": 829,
     "metadata": {},
     "output_type": "execute_result"
    }
   ],
   "source": [
    "len(outliers.index)"
   ]
  },
  {
   "cell_type": "markdown",
   "id": "de125ed9",
   "metadata": {},
   "source": [
    "Total of 38 outliers are removed from the data"
   ]
  },
  {
   "cell_type": "markdown",
   "id": "b23bdc28",
   "metadata": {},
   "source": [
    "Now splitting the data into train and test data"
   ]
  },
  {
   "cell_type": "code",
   "execution_count": 830,
   "id": "6d50f5f4",
   "metadata": {},
   "outputs": [],
   "source": [
    "X = data.drop(\"target\", axis=1)\n",
    "y = data[\"target\"]"
   ]
  },
  {
   "cell_type": "code",
   "execution_count": 831,
   "id": "52d3f73b",
   "metadata": {},
   "outputs": [],
   "source": [
    "X_train, X_test, y_train, y_test = train_test_split(X, y, test_size=0.2, random_state=31)"
   ]
  },
  {
   "cell_type": "markdown",
   "id": "ce27198d",
   "metadata": {},
   "source": [
    "Shape of the splitted data is"
   ]
  },
  {
   "cell_type": "code",
   "execution_count": 832,
   "id": "88cb9f93",
   "metadata": {},
   "outputs": [
    {
     "data": {
      "text/plain": [
       "(565, 11)"
      ]
     },
     "execution_count": 832,
     "metadata": {},
     "output_type": "execute_result"
    }
   ],
   "source": [
    "X_train.shape"
   ]
  },
  {
   "cell_type": "code",
   "execution_count": 833,
   "id": "3fc0eef2",
   "metadata": {},
   "outputs": [
    {
     "data": {
      "text/plain": [
       "(565,)"
      ]
     },
     "execution_count": 833,
     "metadata": {},
     "output_type": "execute_result"
    }
   ],
   "source": [
    "y_train.shape"
   ]
  },
  {
   "cell_type": "code",
   "execution_count": 834,
   "id": "75401345",
   "metadata": {},
   "outputs": [
    {
     "data": {
      "text/plain": [
       "(142, 11)"
      ]
     },
     "execution_count": 834,
     "metadata": {},
     "output_type": "execute_result"
    }
   ],
   "source": [
    "X_test.shape"
   ]
  },
  {
   "cell_type": "code",
   "execution_count": 835,
   "id": "48fcb7ac",
   "metadata": {},
   "outputs": [
    {
     "data": {
      "text/plain": [
       "(142,)"
      ]
     },
     "execution_count": 835,
     "metadata": {},
     "output_type": "execute_result"
    }
   ],
   "source": [
    "y_test.shape"
   ]
  },
  {
   "cell_type": "markdown",
   "id": "75ba3d25-36b9-425b-ba89-2c72e45cbb98",
   "metadata": {},
   "source": [
    "Now comes the time to prepare the main dish that is to make a Artificial Neural Network model"
   ]
  },
  {
   "cell_type": "code",
   "execution_count": 836,
   "id": "a71cb3e1",
   "metadata": {},
   "outputs": [],
   "source": [
    "from tensorflow.keras.models import Sequential\n",
    "from tensorflow.keras.models import Model\n",
    "from tensorflow.keras.layers import Dense\n",
    "from tensorflow.keras.layers import Input\n",
    "from tensorflow.keras.utils import plot_model"
   ]
  },
  {
   "cell_type": "code",
   "execution_count": 837,
   "id": "9876bace-d757-42bd-b2e0-7403dbde4b60",
   "metadata": {},
   "outputs": [
    {
     "name": "stdout",
     "output_type": "stream",
     "text": [
      "Model: \"sequential_43\"\n",
      "_________________________________________________________________\n",
      " Layer (type)                Output Shape              Param #   \n",
      "=================================================================\n",
      " dense_323 (Dense)           (None, 20)                240       \n",
      "                                                                 \n",
      " dense_324 (Dense)           (None, 40)                840       \n",
      "                                                                 \n",
      " dense_325 (Dense)           (None, 50)                2050      \n",
      "                                                                 \n",
      " dense_326 (Dense)           (None, 40)                2040      \n",
      "                                                                 \n",
      " dense_327 (Dense)           (None, 20)                820       \n",
      "                                                                 \n",
      " dense_328 (Dense)           (None, 10)                210       \n",
      "                                                                 \n",
      " dense_329 (Dense)           (None, 10)                110       \n",
      "                                                                 \n",
      " dense_330 (Dense)           (None, 1)                 11        \n",
      "                                                                 \n",
      "=================================================================\n",
      "Total params: 6,321\n",
      "Trainable params: 6,321\n",
      "Non-trainable params: 0\n",
      "_________________________________________________________________\n"
     ]
    }
   ],
   "source": [
    "Annmodel=Sequential()\n",
    "\n",
    "Annmodel.add(Dense(20,input_shape=(11,),activation='relu'))\n",
    "\n",
    "#Annmodel.add(Dense(30,activation='relu'))\n",
    "Annmodel.add(Dense(40,activation='relu'))\n",
    "Annmodel.add(Dense(50,activation='relu'))\n",
    "Annmodel.add(Dense(40,activation='relu'))\n",
    "# Annmodel.add(Dense(30,activation='relu'))\n",
    "Annmodel.add(Dense(20,activation='relu'))\n",
    "Annmodel.add(Dense(10,activation='relu'))\n",
    "# Annmodel.add(Dense(5,activation='relu'))\n",
    "#Annmodel.add(Dense(50,activation='relu'))\n",
    "#Annmodel.add(Dense(100,activation='relu'))\n",
    "#Annmodel.add(Dense(60,activation='relu'))\n",
    "#Annmodel.add(Dense(30,activation='relu'))\n",
    "#Annmodel.add(Dense(20,activation='relu'))\n",
    "Annmodel.add(Dense(10,activation='relu'))\n",
    "\n",
    "Annmodel.add(Dense(1,activation='sigmoid'))\n",
    "Annmodel.summary()"
   ]
  },
  {
   "cell_type": "code",
   "execution_count": 838,
   "id": "cba64e46",
   "metadata": {},
   "outputs": [
    {
     "name": "stdout",
     "output_type": "stream",
     "text": [
      "You must install pydot (`pip install pydot`) and install graphviz (see instructions at https://graphviz.gitlab.io/download/) for plot_model to work.\n"
     ]
    }
   ],
   "source": [
    "plot_model(Annmodel,show_shapes=True, show_layer_names=True)"
   ]
  },
  {
   "cell_type": "code",
   "execution_count": 839,
   "id": "9b2165ed-5355-4587-89aa-c7f326bc03ea",
   "metadata": {},
   "outputs": [],
   "source": [
    "Annmodel.compile(loss='binary_crossentropy', optimizer='adam', metrics=['accuracy'])"
   ]
  },
  {
   "cell_type": "code",
   "execution_count": 840,
   "id": "e9bc7442-cd08-4241-9967-690b4d76f6cf",
   "metadata": {},
   "outputs": [
    {
     "name": "stdout",
     "output_type": "stream",
     "text": [
      "Epoch 1/20\n",
      "113/113 [==============================] - 1s 3ms/step - loss: 0.6706 - accuracy: 0.6106\n",
      "Epoch 2/20\n",
      "113/113 [==============================] - 0s 3ms/step - loss: 0.6215 - accuracy: 0.6655\n",
      "Epoch 3/20\n",
      "113/113 [==============================] - 0s 3ms/step - loss: 0.6001 - accuracy: 0.6832\n",
      "Epoch 4/20\n",
      "113/113 [==============================] - 0s 3ms/step - loss: 0.5810 - accuracy: 0.7239\n",
      "Epoch 5/20\n",
      "113/113 [==============================] - 0s 3ms/step - loss: 0.5866 - accuracy: 0.6903\n",
      "Epoch 6/20\n",
      "113/113 [==============================] - 0s 4ms/step - loss: 0.5762 - accuracy: 0.7257\n",
      "Epoch 7/20\n",
      "113/113 [==============================] - 0s 4ms/step - loss: 0.5646 - accuracy: 0.7257\n",
      "Epoch 8/20\n",
      "113/113 [==============================] - 0s 4ms/step - loss: 0.5530 - accuracy: 0.7257\n",
      "Epoch 9/20\n",
      "113/113 [==============================] - 0s 4ms/step - loss: 0.5464 - accuracy: 0.7451\n",
      "Epoch 10/20\n",
      "113/113 [==============================] - 0s 4ms/step - loss: 0.5432 - accuracy: 0.7327\n",
      "Epoch 11/20\n",
      "113/113 [==============================] - 0s 4ms/step - loss: 0.5311 - accuracy: 0.7487\n",
      "Epoch 12/20\n",
      "113/113 [==============================] - 0s 4ms/step - loss: 0.5098 - accuracy: 0.7575\n",
      "Epoch 13/20\n",
      "113/113 [==============================] - 0s 4ms/step - loss: 0.5162 - accuracy: 0.7504\n",
      "Epoch 14/20\n",
      "113/113 [==============================] - 0s 4ms/step - loss: 0.5045 - accuracy: 0.7699\n",
      "Epoch 15/20\n",
      "113/113 [==============================] - 0s 4ms/step - loss: 0.4906 - accuracy: 0.7646\n",
      "Epoch 16/20\n",
      "113/113 [==============================] - 0s 4ms/step - loss: 0.4802 - accuracy: 0.7841\n",
      "Epoch 17/20\n",
      "113/113 [==============================] - 0s 4ms/step - loss: 0.4638 - accuracy: 0.7823\n",
      "Epoch 18/20\n",
      "113/113 [==============================] - 0s 4ms/step - loss: 0.4689 - accuracy: 0.7929\n",
      "Epoch 19/20\n",
      "113/113 [==============================] - 0s 4ms/step - loss: 0.4495 - accuracy: 0.7929\n",
      "Epoch 20/20\n",
      "113/113 [==============================] - 0s 3ms/step - loss: 0.4313 - accuracy: 0.8159\n",
      "CPU times: total: 1min 16s\n",
      "Wall time: 8.74 s\n"
     ]
    }
   ],
   "source": [
    "%%time\n",
    "h=Annmodel.fit(X_train, y_train, epochs = 20, batch_size = 5)"
   ]
  },
  {
   "cell_type": "code",
   "execution_count": 841,
   "id": "e5df6d7e-0dfd-4025-9b10-d7be816bdd50",
   "metadata": {
    "scrolled": true
   },
   "outputs": [
    {
     "name": "stdout",
     "output_type": "stream",
     "text": [
      "5/5 [==============================] - 0s 3ms/step\n"
     ]
    }
   ],
   "source": [
    "# Make predictions on the test set\n",
    "y_pred = Annmodel.predict(X_test)"
   ]
  },
  {
   "cell_type": "code",
   "execution_count": 842,
   "id": "dc7da716",
   "metadata": {
    "scrolled": true
   },
   "outputs": [
    {
     "data": {
      "text/plain": [
       "array([[0.36244607],\n",
       "       [0.0818149 ],\n",
       "       [0.76737934],\n",
       "       [0.20000593],\n",
       "       [0.8768762 ],\n",
       "       [0.26508373],\n",
       "       [0.5784029 ],\n",
       "       [0.8969386 ],\n",
       "       [0.03269255],\n",
       "       [0.7997591 ],\n",
       "       [0.38762826],\n",
       "       [0.03327345],\n",
       "       [0.948598  ],\n",
       "       [0.20753242],\n",
       "       [0.40888458],\n",
       "       [0.87331754],\n",
       "       [0.4780325 ],\n",
       "       [0.28869855],\n",
       "       [0.1841994 ],\n",
       "       [0.30131772],\n",
       "       [0.48246375],\n",
       "       [0.8707339 ],\n",
       "       [0.89712876],\n",
       "       [0.13862188],\n",
       "       [0.12430583],\n",
       "       [0.88298374],\n",
       "       [0.11389904],\n",
       "       [0.46715602],\n",
       "       [0.02810674],\n",
       "       [0.18284173],\n",
       "       [0.8043122 ],\n",
       "       [0.07209273],\n",
       "       [0.92125434],\n",
       "       [0.17891751],\n",
       "       [0.71804273],\n",
       "       [0.92282677],\n",
       "       [0.18134661],\n",
       "       [0.35913637],\n",
       "       [0.683837  ],\n",
       "       [0.529518  ],\n",
       "       [0.20441595],\n",
       "       [0.87093484],\n",
       "       [0.12956773],\n",
       "       [0.87685835],\n",
       "       [0.6177056 ],\n",
       "       [0.7801741 ],\n",
       "       [0.20887083],\n",
       "       [0.95989394],\n",
       "       [0.29953647],\n",
       "       [0.27192283],\n",
       "       [0.77378875],\n",
       "       [0.11966698],\n",
       "       [0.19774792],\n",
       "       [0.5233999 ],\n",
       "       [0.88492143],\n",
       "       [0.36931708],\n",
       "       [0.3130655 ],\n",
       "       [0.0613969 ],\n",
       "       [0.43201604],\n",
       "       [0.15976891],\n",
       "       [0.15585037],\n",
       "       [0.26237136],\n",
       "       [0.83210033],\n",
       "       [0.17776507],\n",
       "       [0.691402  ],\n",
       "       [0.14688478],\n",
       "       [0.14887759],\n",
       "       [0.49592927],\n",
       "       [0.13043955],\n",
       "       [0.87311935],\n",
       "       [0.28715017],\n",
       "       [0.92139906],\n",
       "       [0.20898123],\n",
       "       [0.90100354],\n",
       "       [0.28337154],\n",
       "       [0.75825816],\n",
       "       [0.8691703 ],\n",
       "       [0.8924404 ],\n",
       "       [0.65219134],\n",
       "       [0.21162584],\n",
       "       [0.30952302],\n",
       "       [0.88196456],\n",
       "       [0.9537252 ],\n",
       "       [0.26302132],\n",
       "       [0.7631663 ],\n",
       "       [0.06380236],\n",
       "       [0.09615555],\n",
       "       [0.02538358],\n",
       "       [0.9240812 ],\n",
       "       [0.6463431 ],\n",
       "       [0.26550275],\n",
       "       [0.92418975],\n",
       "       [0.6210422 ],\n",
       "       [0.38063827],\n",
       "       [0.20442297],\n",
       "       [0.8389576 ],\n",
       "       [0.27371863],\n",
       "       [0.07120179],\n",
       "       [0.2756036 ],\n",
       "       [0.19291835],\n",
       "       [0.09706742],\n",
       "       [0.06026962],\n",
       "       [0.19487207],\n",
       "       [0.37350124],\n",
       "       [0.8865007 ],\n",
       "       [0.13885081],\n",
       "       [0.85287094],\n",
       "       [0.18665506],\n",
       "       [0.07632107],\n",
       "       [0.12770364],\n",
       "       [0.8186364 ],\n",
       "       [0.15647143],\n",
       "       [0.22699167],\n",
       "       [0.07009944],\n",
       "       [0.90934557],\n",
       "       [0.7711391 ],\n",
       "       [0.14073284],\n",
       "       [0.2846583 ],\n",
       "       [0.8230438 ],\n",
       "       [0.89167285],\n",
       "       [0.8803275 ],\n",
       "       [0.78028923],\n",
       "       [0.31381273],\n",
       "       [0.2345248 ],\n",
       "       [0.09152052],\n",
       "       [0.9021986 ],\n",
       "       [0.2776007 ],\n",
       "       [0.15345457],\n",
       "       [0.6233852 ],\n",
       "       [0.55992264],\n",
       "       [0.7785601 ],\n",
       "       [0.8902659 ],\n",
       "       [0.17148802],\n",
       "       [0.9374039 ],\n",
       "       [0.28923884],\n",
       "       [0.07194397],\n",
       "       [0.11517224],\n",
       "       [0.54885983],\n",
       "       [0.11769059],\n",
       "       [0.5435601 ],\n",
       "       [0.11276709],\n",
       "       [0.29994422]], dtype=float32)"
      ]
     },
     "execution_count": 842,
     "metadata": {},
     "output_type": "execute_result"
    }
   ],
   "source": [
    "y_pred"
   ]
  },
  {
   "cell_type": "code",
   "execution_count": 843,
   "id": "2b682d3a",
   "metadata": {},
   "outputs": [],
   "source": [
    "rounded = [round(x[0]) for x in y_pred]"
   ]
  },
  {
   "cell_type": "code",
   "execution_count": 844,
   "id": "bbbe9ee0",
   "metadata": {},
   "outputs": [],
   "source": [
    "y_pred = rounded"
   ]
  },
  {
   "cell_type": "code",
   "execution_count": 845,
   "id": "7feb2e90-2ff7-43f8-b7f7-acb4bc7f0c64",
   "metadata": {},
   "outputs": [
    {
     "name": "stdout",
     "output_type": "stream",
     "text": [
      "Test Accuracy: 0.823943661971831\n",
      "Sensitivity (True Positive Rate): 0.8\n",
      "Specificity (True Negative Rate): 0.8390804597701149\n",
      "Precision: 0.7586206896551724\n"
     ]
    }
   ],
   "source": [
    "accuracy = accuracy_score(y_test, y_pred)\n",
    "print(\"Test Accuracy:\", accuracy)\n",
    "\n",
    "# Calculate confusion matrix\n",
    "tn, fp, fn, tp = confusion_matrix(y_test, y_pred).ravel()\n",
    "\n",
    "# Calculate sensitivity (true positive rate or recall)\n",
    "sensitivity = tp / (tp + fn)\n",
    "print(\"Sensitivity (True Positive Rate):\", sensitivity)\n",
    "\n",
    "# Calculate specificity (true negative rate)\n",
    "specificity = tn / (tn + fp)\n",
    "print(\"Specificity (True Negative Rate):\", specificity)\n",
    "\n",
    "# Calculate precision\n",
    "precision = precision_score(y_test, y_pred)\n",
    "print(\"Precision:\", precision)"
   ]
  },
  {
   "cell_type": "markdown",
   "id": "b689ad04",
   "metadata": {},
   "source": [
    "We did our best to improve the accuracy with ANN but it is not much, however we can improve it by building some good ANN and tune it accordingly.But finally uncle is satisfied with our efforts and gave us his special dish. Also he does not have heart disease. Hopefully may our model is right in it's prediction."
   ]
  }
 ],
 "metadata": {
  "kernelspec": {
   "display_name": "Python 3 (ipykernel)",
   "language": "python",
   "name": "python3"
  },
  "language_info": {
   "codemirror_mode": {
    "name": "ipython",
    "version": 3
   },
   "file_extension": ".py",
   "mimetype": "text/x-python",
   "name": "python",
   "nbconvert_exporter": "python",
   "pygments_lexer": "ipython3",
   "version": "3.10.12"
  }
 },
 "nbformat": 4,
 "nbformat_minor": 5
}
